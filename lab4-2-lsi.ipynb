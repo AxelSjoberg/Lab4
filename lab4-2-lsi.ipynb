{
 "cells": [
  {
   "cell_type": "markdown",
   "metadata": {},
   "source": [
    "# Text 2: Latent semantic indexing\n",
    "**Internet Analytics - Lab 4**\n",
    "\n",
    "---\n",
    "\n",
    "**Group:** *J*\n",
    "\n",
    "**Names:**\n",
    "\n",
    "* *Maxime Lucas Lanvin*\n",
    "* *Victor Salvia*\n",
    "* *Erik Axel Wilhelm Sjöberg*\n",
    "\n",
    "---\n",
    "\n",
    "#### Instructions\n",
    "\n",
    "*This is a template for part 2 of the lab. Clearly write your answers, comments and interpretations in Markdown cells. Don't forget that you can add $\\LaTeX$ equations in these cells. Feel free to add or remove any cell.*\n",
    "\n",
    "*Please properly comment your code. Code readability will be considered for grading. To avoid long cells of codes in the notebook, you can also embed long python functions and classes in a separate module. Don’t forget to hand in your module if that is the case. In multiple exercises, you are required to come up with your own method to solve various problems. Be creative and clearly motivate and explain your methods. Creativity and clarity will be considered for grading.*"
   ]
  },
  {
   "cell_type": "code",
   "execution_count": 1,
   "metadata": {},
   "outputs": [
    {
     "name": "stderr",
     "output_type": "stream",
     "text": [
      "[nltk_data] Downloading package wordnet to /home/lanvin/nltk_data...\n",
      "[nltk_data]   Package wordnet is already up-to-date!\n"
     ]
    }
   ],
   "source": [
    "# Import Libraries\n",
    "import pickle\n",
    "import numpy as np\n",
    "from scipy.sparse.linalg import svds\n",
    "from utils import load_json\n",
    "from numpy.linalg import norm\n",
    "\n",
    "# Import LibEx1\n",
    "import nltk\n",
    "nltk.download('wordnet')\n",
    "from nltk.tokenize import TweetTokenizer\n",
    "from nltk.stem import PorterStemmer\n",
    "from nltk.stem import WordNetLemmatizer \n",
    "from nltk.util import ngrams \n",
    "from utils import load_json, load_pkl\n",
    "import copy\n",
    "from collections import Counter\n",
    "from scipy.sparse import csr_matrix\n",
    "# from numpy.linalg import norm\n",
    "\n",
    "# Import Data\n",
    "courses = load_json('data/courses.txt')\n",
    "stopwords = load_pkl('data/stopwords.pkl')"
   ]
  },
  {
   "cell_type": "code",
   "execution_count": 2,
   "metadata": {},
   "outputs": [],
   "source": [
    "import utils"
   ]
  },
  {
   "cell_type": "markdown",
   "metadata": {},
   "source": [
    "## Functions From Part 1 to get the TF-IDF Matrix X"
   ]
  },
  {
   "cell_type": "code",
   "execution_count": 3,
   "metadata": {},
   "outputs": [],
   "source": [
    "# Constructs a term-document matrix from a corpus\n",
    "def get_term_document_matrix(corpus):\n",
    "    global_dictionary, dictionary_mapping = get_dictionary(corpus)\n",
    "    df_index = dict((k,len(list(set(v)))) for k,v in dictionary_mapping.items()) # A dict where the key is the term and the value is in how many documents the term is present\n",
    "    unique_words = list(df_index.keys()) #The unique words\n",
    "    word_to_index = dict(zip(unique_words,(range(len(unique_words))))) # Mapping from word to index (That we use for the encoding)\n",
    "    index_to_word = dict((v,k) for k,v in word_to_index.items()) # Mapping back from index to word. \n",
    "\n",
    "\n",
    "    m = len(unique_words)\n",
    "    n = len(corpus)\n",
    "\n",
    "    values = []\n",
    "    rows = []\n",
    "    columns = []\n",
    "\n",
    "    for i in range(n):\n",
    "        tokens = corpus[i]['description']\n",
    "        loc_word_count = len(tokens)\n",
    "        loc_counts = Counter(tokens)\n",
    "        unique_tokens = list(loc_counts.keys())\n",
    "\n",
    "        for token in unique_tokens:\n",
    "            tf = loc_counts[token]/loc_word_count\n",
    "            df = df_index[token]\n",
    "            idf = np.log(n/(df+1))\n",
    "\n",
    "            rows.append(word_to_index[token])\n",
    "            columns.append(i)\n",
    "            values.append(tf*idf)\n",
    "\n",
    "    return csr_matrix((values, (rows, columns)), shape=(m, n)), index_to_word, word_to_index\n",
    "\n",
    "def get_column_scores(mat, i,index_to_word, n=-1):\n",
    "    a = mat.getcol(i)\n",
    "    non_zero_rows = csr_matrix.nonzero(a)[0]\n",
    "    d = {}\n",
    "    for i in non_zero_rows:\n",
    "        d[index_to_word[i]] = a[i,0]\n",
    "    order_d = {k: v for k, v in sorted(d.items(), key=lambda item: item[1], reverse=True)}\n",
    "    if n == -1:\n",
    "        return Counter(order_d).most_common()\n",
    "    else:\n",
    "        return Counter(order_d).most_common(n)\n",
    "    \n",
    "def get_row_scores(mat, word,word_to_index, n=-1,corpus=courses):\n",
    "    a = mat.getrow(word_to_index[word])\n",
    "    non_zero_cols = csr_matrix.nonzero(a)[1]\n",
    "    d = {}\n",
    "    for i in non_zero_cols:\n",
    "        d[corpus[i]['name']] = a[0,i]\n",
    "    \n",
    "    order_d = {k: v for k, v in sorted(d.items(), key=lambda item: item[1], reverse=True)}\n",
    "    if n == -1:\n",
    "        return Counter(order_d).most_common()\n",
    "    else:\n",
    "        return Counter(order_d).most_common(n)\n",
    "    \n",
    "# We do not care for the position here so just add them up\n",
    "def corpus_merge(c1,c2):\n",
    "    merged_corpus =  copy.deepcopy(c1)\n",
    "    for i in range(len(c1)):\n",
    "        merged_corpus[i]['description'] = merged_corpus[i]['description'] + c2[i]['description']\n",
    "    return merged_corpus\n",
    "\n",
    "# Checks whether or not there is a digit in a string.\n",
    "def NoNumbers(s):\n",
    "    return not any(char.isdigit() for char in s)\n",
    "\n",
    "# Stemms a given string\n",
    "def stemmer(s):\n",
    "    word_tokens = tknzr.tokenize(s)\n",
    "    temp_list = [ps.stem(w) for w in word_tokens if not w in ignored_words] \n",
    "    return [w for w in temp_list if NoNumbers(w)]\n",
    "\n",
    "# Lemmatizes a given string\n",
    "def lemmazation(s):\n",
    "    word_tokens = tknzr.tokenize(s)\n",
    "    temp_list = [lemmatizer.lemmatize(w) for w in word_tokens if not w in ignored_words]\n",
    "    return [w for w in temp_list if NoNumbers(w)]\n",
    "\n",
    "def lem_n_stem(s):\n",
    "    word_tokens = tknzr.tokenize(s)\n",
    "    temp_list = [ps.stem(lemmatizer.lemmatize(w)) for w in word_tokens if not w in ignored_words]\n",
    "    return [w for w in temp_list if NoNumbers(w)]    \n",
    "\n",
    "# Helper function for the tokenize_1gram.\n",
    "# tokenzie a given string, either stem or Lemmatise the words and removes the ignored words for a 1 gram\n",
    "def tokenize_1gram(l,lem,stemlem):\n",
    "    courses_loc = copy.deepcopy(l)\n",
    "    for i in courses_loc:\n",
    "        description = i['description']\n",
    "        if lem == True:\n",
    "            i['description'] = lemmazation(description)\n",
    "            if stemlem == False:\n",
    "                i['description'] = lemmazation(description)\n",
    "            else:\n",
    "                i['description'] = lem_n_stem(description)\n",
    "        else:\n",
    "            i['description'] = stemmer(description)  \n",
    "    return courses_loc\n",
    "\n",
    "# Description: Tokenzie a given string, either stem or Lemmatise the words and removes the ignored words for a 1 gram.\n",
    "# After this step n-grams are created over the cleaned string //\n",
    "\n",
    "# @ l: Indicats the level of the n-gram we want returned over the string l. Default is 1.\n",
    "# @ lem: boolean exression determining whether or not to use stemming or lemmazation. Default is lemmazation\n",
    "# @ stemlem: boolean expression determining whether or not to use both stemming and lemmazation\n",
    "def tokenize_ngram(l,n=1,lem=True,stemlem=False):\n",
    "    if n ==1:\n",
    "        return tokenize_1gram(l,lem,stemlem)  \n",
    "    courses_loc = copy.deepcopy(l)\n",
    "    for i in courses_loc:\n",
    "        description = i['description']\n",
    "        sentences = description.split('.')\n",
    "        grams = []\n",
    "        for s in sentences:\n",
    "            if lem == True:\n",
    "                if stemlem == False:\n",
    "                    tokens = lemmazation(s)\n",
    "                else:\n",
    "                    tokens = lem_n_stem(s)\n",
    "            else:\n",
    "                tokens = stemmer(s)\n",
    "            grams = grams + list(ngrams(tokens,n))\n",
    "        i['description'] = grams\n",
    "    return courses_loc   \n",
    "\n",
    "def get_dictionary(d):\n",
    "    global_dictionary = []\n",
    "    dictionary_mapping = {}\n",
    "    for i in range(0,len(d)):\n",
    "        temp_list = d[i]\n",
    "        global_dictionary = global_dictionary + temp_list['description']\n",
    "        for w in temp_list['description']:\n",
    "            if w in dictionary_mapping:\n",
    "                dictionary_mapping[w].append(i)\n",
    "            else:\n",
    "                dictionary_mapping[w] = [i]\n",
    "    return global_dictionary, dictionary_mapping\n",
    "\n",
    "\n",
    "\n",
    "# Creating a list containing all of the special chars. This list is then added to the stopwords and together they form\n",
    "# the ignored words. These words will be removed from the corpus. \n",
    "specialchar = ['.', ',', '(', ')', '&', ':', '/','-','\"',';','', ' ', '..', '...',\"'\",'%']\n",
    "ignored_words = set(list(stopwords) + specialchar)\n",
    "\n",
    "\n",
    "# Creating the tokenizer, the stemmer and the lemmatizer.\n",
    "tknzr = TweetTokenizer(strip_handles=True, reduce_len=True,preserve_case=False)\n",
    "ps = PorterStemmer() \n",
    "lemmatizer = WordNetLemmatizer()\n",
    "    \n",
    "# Tokenzing, Lemmatizing & Stemming the corpus, for 1-grams, 2-grams and 3-grams\n",
    "lem_and_stem_1gram = tokenize_ngram(courses,1,stemlem=True)\n",
    "lem_and_stem_2gram = tokenize_ngram(courses,2,stemlem=True)\n",
    "\n",
    "lem_stem_corpus = corpus_merge(lem_and_stem_1gram, lem_and_stem_2gram)"
   ]
  },
  {
   "cell_type": "markdown",
   "metadata": {},
   "source": [
    "## Exercise 4.4: Latent semantic indexing"
   ]
  },
  {
   "cell_type": "markdown",
   "metadata": {},
   "source": [
    "Apply SVD with K = 300 to your term-document matrix X from the previous exercise.\n",
    "1. Describe the rows and columns of U andV, and the values of S.\n",
    "2. Print the top-20 eigenvalues of X."
   ]
  },
  {
   "cell_type": "code",
   "execution_count": 4,
   "metadata": {},
   "outputs": [],
   "source": [
    "# 1.\n",
    "X, index_to_word, word_to_index = get_term_document_matrix(lem_stem_corpus)\n",
    "U, S, V_t = svds(X, k=300)"
   ]
  },
  {
   "attachments": {
    "image.png": {
     "image/png": "[encoded data removed]"
    }
   },
   "cell_type": "markdown",
   "metadata": {},
   "source": [
    "Here is the interpretation of the rows and columns of U, V, S\n",
    "![image.png](attachment:image.png)"
   ]
  },
  {
   "cell_type": "markdown",
   "metadata": {},
   "source": [
    "We know that $ \\sqrt{\\lambda_i} = \\sigma_i$, thus to compute the eigenvalues we will square the singular values"
   ]
  },
  {
   "cell_type": "code",
   "execution_count": 73,
   "metadata": {},
   "outputs": [
    {
     "name": "stdout",
     "output_type": "stream",
     "text": [
      "The top 20 eigenvalues of X are : \n",
      "\n",
      "  #1 :\t7.493258662964626\n",
      "  #2 :\t7.170461868512117\n",
      "  #3 :\t4.5599374441253095\n",
      "  #4 :\t1.7236374869619666\n",
      "  #5 :\t1.1362565456542901\n",
      "  #6 :\t0.882142842630598\n",
      "  #7 :\t0.8321259862318432\n",
      "  #8 :\t0.7493043691098814\n",
      "  #9 :\t0.7171353323620919\n",
      "  #10 :\t0.6723092125297008\n",
      "  #11 :\t0.6490587181886455\n",
      "  #12 :\t0.6380568006074502\n",
      "  #13 :\t0.6330746709642352\n",
      "  #14 :\t0.6273587387256975\n",
      "  #15 :\t0.6145480726605501\n",
      "  #16 :\t0.6099360337323447\n",
      "  #17 :\t0.594747618633006\n",
      "  #18 :\t0.5872792148045666\n",
      "  #19 :\t0.5795788378678971\n",
      "  #20 :\t0.5766188861696018\n"
     ]
    }
   ],
   "source": [
    "# 2.\n",
    "eigenval_X = S*S\n",
    "print('The top 20 eigenvalues of X are : \\n')\n",
    "for i, val in enumerate(eigenval_X[-20::][::-1]):print(\"  #\"+str(i+1)+\" :\\t\"+str(val))"
   ]
  },
  {
   "cell_type": "markdown",
   "metadata": {},
   "source": [
    "## Exercise 4.5: Topic extraction"
   ]
  },
  {
   "cell_type": "markdown",
   "metadata": {
    "scrolled": true
   },
   "source": [
    "Extract the topics from the term-document matrix X using the low-rank approximation.\n",
    "1. Print the top-10 topics as a combination of 10 terms and 10 documents.\n",
    "2. Give a label to each of them."
   ]
  },
  {
   "cell_type": "code",
   "execution_count": 6,
   "metadata": {
    "scrolled": true
   },
   "outputs": [],
   "source": [
    "# 1. & 2.\n",
    "# Convert index to Document\n",
    "doc_to_index = dict([course['name'], i] for i, course in enumerate(courses))\n",
    "index_to_doc = dict([i, course['name']] for i, course in enumerate(courses))\n",
    "\n",
    "# Collect 10 Best Terms related to Top 10 Topics\n",
    "rates_Terms_topics = np.sum(U[::,-10::], axis=1)\n",
    "Top_Terms_indices = rates_Terms_topics.argsort()[::-1][:10:]\n",
    "Top_Terms = [index_to_word[index] for index in Top_Terms_indices]\n",
    "\n",
    "# Collect 10 Best Documents related to Top 10 Topics\n",
    "rates_Documents_topics = np.sum(V_t.T[::,-10::], axis=1)\n",
    "Top_Documents_indices = rates_Documents_topics.argsort()[::-1][:10:]\n",
    "Top_Documents = [index_to_doc[index] for index in Top_Documents_indices]"
   ]
  },
  {
   "cell_type": "code",
   "execution_count": 7,
   "metadata": {},
   "outputs": [
    {
     "name": "stdout",
     "output_type": "stream",
     "text": [
      "\n",
      "              TOP 10 Topics as combination of 10 Terms and 10 Documents       \n",
      "\n",
      "----------------------------------------------------------------------------------\n",
      "No  :\t\tTerms                                     Documents\n",
      "----------------------------------------------------------------------------------\n",
      "#1  :\t\t('project', 'ic')                         Medicinal chemistry\n",
      "#2  :\t\t('ic', 'laboratori')                      Magnetic confinement\n",
      "#3  :\t\t('semest', 'project')                     Project 2 (EDIC)\n",
      "#4  :\t\tic                                        Project 1 (EDIC)\n",
      "#5  :\t\t('provid', 'fondament')                   Plasma Diagnostics in Basic Plasma Physics Devices and Tokamaks: from Principles to Practice\n",
      "#6  :\t\t('compound', 'drug')                      Plasma physics III\n",
      "#7  :\t\t('question', 'chemic')                    Some problems in the theory of simple groups\n",
      "#8  :\t\t('fondament', 'question')                 Plasma instabilities\n",
      "#9  :\t\t('drug', '?')                             Studio BA4 (De Vylder & Taillieu)\n",
      "#10  :\t\tfondament                                Working Group in Algebraic Groups, I\n"
     ]
    }
   ],
   "source": [
    "# Display Results\n",
    "print(\"\\n              TOP 10 Topics as combination of 10 Terms and 10 Documents       \\n\")\n",
    "print(\"----------------------------------------------------------------------------------\")\n",
    "print(\"No  :\t\tTerms                                     Documents\")\n",
    "print(\"----------------------------------------------------------------------------------\")\n",
    "for i, top_val in enumerate(zip(Top_Terms, Top_Documents)):\n",
    "    print('#'+str(i+1)+\"  :\\t\\t\"+str(top_val[0])+' '*(50-len('#'+str(i+1)+\"  :\\t\\t\"+str(top_val[0])+' '))+str(top_val[1]))"
   ]
  },
  {
   "cell_type": "markdown",
   "metadata": {},
   "source": [
    "## Exercise 4.6: Document similarity search in concept-space"
   ]
  },
  {
   "cell_type": "markdown",
   "metadata": {},
   "source": [
    "Implement a search function using LSI concept-space, and search for \"markov chains\" and\n",
    "\"facebook\".\n",
    "1. Display the top five courses together with their similarity score for each query.\n",
    "2. Compare with the previous section."
   ]
  },
  {
   "cell_type": "code",
   "execution_count": 14,
   "metadata": {},
   "outputs": [],
   "source": [
    "def sim(term, document, U, S,  V):\n",
    "    \"\"\"\n",
    "    :input: \n",
    "        :term: a term\n",
    "        :document: name of a document\n",
    "        :U: Left Matrix of the SVD Decomposition\n",
    "        :S: Diagonal Matrix containing the singular values of the SVD Decomposition\n",
    "        :V: Right Matrix of the SVD Decomposition\n",
    "    :output:\n",
    "        :s: the measure of similarity between the provided term and docucment\n",
    "    \"\"\"\n",
    "    t = word_to_index[term]\n",
    "    d = doc_to_index[document]\n",
    "    s = U[t]@S@V[d].T/(norm(U[t])*norm(S@V[d].T))\n",
    "    return s\n",
    "\n",
    "def search(word):\n",
    "    \"\"\"\n",
    "    :input: \n",
    "        :word: a term\n",
    "    :output:\n",
    "        :: Display the TOP 5 courses and their similarity score, related to the provided theme \n",
    "    \"\"\"\n",
    "    # Compute the TF-IDF Matrix\n",
    "    X, index_to_word, word_to_index = get_term_document_matrix(lem_stem_corpus)\n",
    "    # Perform the SVD decomposition with k=300\n",
    "    U, S, V_t = svds(X, k=300)\n",
    "    # List of the courses\n",
    "    courses_list = np.array([c['name'] for c in courses])\n",
    "    # Compute Similarity\n",
    "    sim_word_Documents = []\n",
    "    for course_name in courses_list:\n",
    "        s = sim(word,course_name, U, np.diag(S), V_t.T)\n",
    "        sim_word_Documents.append([s, course_name])\n",
    "    \n",
    "    # Find 5 most similar courses\n",
    "    sim_word_Documents.sort()\n",
    "    sim_courses = sim_word_Documents[-5::][::-1]\n",
    "    \n",
    "    # Display Found courses\n",
    "    \n",
    "    print(\"\\n              TOP 5 courses about the topic : \"+str(word)+\"       \\n\")\n",
    "    print(\"----------------------------------------------------------------------------------\")\n",
    "    print(\"No  :\t\tCourses                                   Similarity Score\")\n",
    "    print(\"----------------------------------------------------------------------------------\")\n",
    "    for i, top_val in enumerate(sim_courses):\n",
    "        print('#'+str(i+1)+\"  :\\t\\t\"+str(top_val[1])+' '*(50-len('#'+str(i+1)+\"  :\\t\\t\"+str(top_val[1])+' '))+str(round(top_val[0],4)))\n",
    "    \n",
    "    \n",
    "    return sim_courses"
   ]
  },
  {
   "cell_type": "code",
   "execution_count": 15,
   "metadata": {},
   "outputs": [
    {
     "name": "stdout",
     "output_type": "stream",
     "text": [
      "\n",
      "              TOP 5 courses about the topic : ('markov', 'chain')       \n",
      "\n",
      "----------------------------------------------------------------------------------\n",
      "No  :\t\tCourses                                   Similarity Score\n",
      "----------------------------------------------------------------------------------\n",
      "#1  :\t\tApplied stochastic processes              0.9113\n",
      "#2  :\t\tMarkov chains and algorithmic applications0.7728\n",
      "#3  :\t\tApplied probability & stochastic processes0.7409\n",
      "#4  :\t\tOptimization and simulation               0.4377\n",
      "#5  :\t\tStatistical Sequence Processing           0.4153\n",
      "\n",
      "              TOP 5 courses about the topic : facebook       \n",
      "\n",
      "----------------------------------------------------------------------------------\n",
      "No  :\t\tCourses                                   Similarity Score\n",
      "----------------------------------------------------------------------------------\n",
      "#1  :\t\tComputational Social Media                0.9823\n",
      "#2  :\t\tSocial media                              0.788\n",
      "#3  :\t\tInternet analytics                        0.5314\n",
      "#4  :\t\tHow people learn I                        0.5028\n",
      "#5  :\t\tHow people learn II                       0.3114\n"
     ]
    }
   ],
   "source": [
    "courses_markov_chains = search(('markov', 'chain'))\n",
    "courses_facebook = search(\"facebook\")"
   ]
  },
  {
   "cell_type": "markdown",
   "metadata": {},
   "source": [
    "In the Part 1, we got the following courses :"
   ]
  },
  {
   "cell_type": "code",
   "execution_count": 10,
   "metadata": {},
   "outputs": [
    {
     "name": "stdout",
     "output_type": "stream",
     "text": [
      "\n",
      "---------------------- markov chains ------------------------\n",
      "Applied stochastic processes: 0.1592\n",
      "Markov chains and algorithmic applications: 0.0929\n",
      "Applied probability & stochastic processes: 0.0849\n",
      "Optimization and simulation: 0.0472\n",
      "Networks out of control: 0.0307\n",
      "\n"
     ]
    }
   ],
   "source": [
    "print(\"\"\"\n",
    "---------------------- markov chains ------------------------\n",
    "Applied stochastic processes: 0.1592\n",
    "Markov chains and algorithmic applications: 0.0929\n",
    "Applied probability & stochastic processes: 0.0849\n",
    "Optimization and simulation: 0.0472\n",
    "Networks out of control: 0.0307\n",
    "\"\"\")"
   ]
  },
  {
   "cell_type": "markdown",
   "metadata": {},
   "source": [
    "We found almost the same courses as the last section."
   ]
  },
  {
   "cell_type": "markdown",
   "metadata": {},
   "source": [
    "## Exercise 4.7: Document-document similarity"
   ]
  },
  {
   "cell_type": "markdown",
   "metadata": {},
   "source": [
    "Find the classes that are the most similar to Internet Analytics.\n",
    "1. Write down the equation to efficiently compute the similarity between documents.\n",
    "2. Print the top 5 classes most similar to COM-308."
   ]
  },
  {
   "cell_type": "markdown",
   "metadata": {},
   "source": [
    "The equation to efficiently compute the similarity between documents is :\n",
    "$$sim(d,d')= \\frac{v_{d}.v_{d'}}{||v_{d}||.||v_{d'}||}$$"
   ]
  },
  {
   "cell_type": "code",
   "execution_count": 71,
   "metadata": {},
   "outputs": [],
   "source": [
    "def sim_doc(doc1, doc2, V):\n",
    "    \"\"\"\n",
    "    :input: \n",
    "        :doc1: name of a document\n",
    "        :doc2: name of a document\n",
    "        :V: Right Matrix of the SVD Decomposition\n",
    "    :output:\n",
    "        :s: the measure of similarity between the doc1 and doc2\n",
    "    \"\"\"\n",
    "    d1 = doc_to_index[doc1]\n",
    "    d2 = doc_to_index[doc2]\n",
    "    s = np.dot(V[d1],V[d2])/(norm(V[d1])*norm(V[d2]))\n",
    "    return s\n",
    "\n",
    "def search_courses(course):\n",
    "    \"\"\"\n",
    "    :input: \n",
    "        :course: The name of a course\n",
    "    :output:\n",
    "        :: Display the TOP 5 courses and their similarity score, related to the provided course name \n",
    "    \"\"\"\n",
    "    # Compute the TF-IDF Matrix\n",
    "    X, index_to_word, word_to_index = get_term_document_matrix(lem_stem_corpus)\n",
    "    # Perform the SVD decomposition with k=300\n",
    "    U, S, V_t = svds(X, k=300)\n",
    "    # Index of the given course\n",
    "    id_course = doc_to_index[course]\n",
    "    # List of the courses\n",
    "    courses_list = np.array([c['name'] for c in courses if c['name']!=course])\n",
    "    # Compute Similarity\n",
    "    sim_course = []\n",
    "    for course_name in courses_list:\n",
    "        s = sim_doc(course, course_name, V_t.T)\n",
    "        sim_course.append([s, course_name])\n",
    "    \n",
    "    # Find 5 most similar courses\n",
    "    sim_course.sort()\n",
    "    sim_courses = sim_course[-5::][::-1]\n",
    "    \n",
    "    # Display Found courses\n",
    "    \n",
    "    print(\"\\n              TOP 5 courses similar to \"+str(course)+\"       \\n\")\n",
    "    print(\"-------------------------------------------------------------------------------------------------\")\n",
    "    print(\"No  :\t\tCourses                                                       Similarity Score\")\n",
    "    print(\"-------------------------------------------------------------------------------------------------\")\n",
    "    for i, top_val in enumerate(sim_courses):\n",
    "        print('#'+str(i+1)+\"  :\\t\\t\"+str(top_val[1])+' '*(70-len('#'+str(i+1)+\"  :\\t\\t\"+str(top_val[1])+' '))+str(round(top_val[0],4)))\n",
    "    \n",
    "    \n",
    "    return sim_courses"
   ]
  },
  {
   "cell_type": "code",
   "execution_count": 72,
   "metadata": {},
   "outputs": [
    {
     "name": "stdout",
     "output_type": "stream",
     "text": [
      "\n",
      "              TOP 5 courses similar to Internet analytics       \n",
      "\n",
      "-------------------------------------------------------------------------------------------------\n",
      "No  :\t\tCourses                                                       Similarity Score\n",
      "-------------------------------------------------------------------------------------------------\n",
      "#1  :\t\tDistributed information systems                               0.6239\n",
      "#2  :\t\tA Network Tour of Data Science                                0.6113\n",
      "#3  :\t\tComputational Social Media                                    0.6066\n",
      "#4  :\t\tApplied data analysis                                         0.5642\n",
      "#5  :\t\tHuman language technology: applications to information access 0.5492\n"
     ]
    }
   ],
   "source": [
    "courses_IX = search_courses(\"Internet analytics\")"
   ]
  }
 ],
 "metadata": {
  "kernelspec": {
   "display_name": "Python 3",
   "language": "python",
   "name": "python3"
  },
  "language_info": {
   "codemirror_mode": {
    "name": "ipython",
    "version": 3
   },
   "file_extension": ".py",
   "mimetype": "text/x-python",
   "name": "python",
   "nbconvert_exporter": "python",
   "pygments_lexer": "ipython3",
   "version": "3.7.4"
  },
  "toc": {
   "base_numbering": 1,
   "nav_menu": {},
   "number_sections": true,
   "sideBar": true,
   "skip_h1_title": false,
   "title_cell": "Table of Contents",
   "title_sidebar": "Contents",
   "toc_cell": false,
   "toc_position": {},
   "toc_section_display": true,
   "toc_window_display": false
  }
 },
 "nbformat": 4,
 "nbformat_minor": 2
}
